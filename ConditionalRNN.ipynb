{
  "nbformat": 4,
  "nbformat_minor": 0,
  "metadata": {
    "colab": {
      "provenance": []
    },
    "kernelspec": {
      "name": "python3",
      "display_name": "Python 3"
    },
    "language_info": {
      "name": "python"
    }
  },
  "cells": [
    {
      "cell_type": "code",
      "execution_count": null,
      "metadata": {
        "colab": {
          "base_uri": "https://localhost:8080/"
        },
        "id": "ml_hxtpodSF7",
        "outputId": "fdb22a14-320e-4864-d83d-bbba8dd32079"
      },
      "outputs": [
        {
          "output_type": "stream",
          "name": "stdout",
          "text": [
            "Mounted at /content/drive\n"
          ]
        }
      ],
      "source": [
        "from google.colab import drive\n",
        "drive.mount('/content/drive', force_remount=True)"
      ]
    },
    {
      "cell_type": "code",
      "source": [
        "pip install pydicom"
      ],
      "metadata": {
        "colab": {
          "base_uri": "https://localhost:8080/"
        },
        "id": "LMnSfrC4eqFl",
        "outputId": "18414a44-cbcf-4767-c995-e15ea77ad701"
      },
      "execution_count": null,
      "outputs": [
        {
          "output_type": "stream",
          "name": "stdout",
          "text": [
            "Looking in indexes: https://pypi.org/simple, https://us-python.pkg.dev/colab-wheels/public/simple/\n",
            "Collecting pydicom\n",
            "  Downloading pydicom-2.3.1-py3-none-any.whl (2.0 MB)\n",
            "\u001b[2K     \u001b[90m━━━━━━━━━━━━━━━━━━━━━━━━━━━━━━━━━━━━━━━━\u001b[0m \u001b[32m2.0/2.0 MB\u001b[0m \u001b[31m31.2 MB/s\u001b[0m eta \u001b[36m0:00:00\u001b[0m\n",
            "\u001b[?25hInstalling collected packages: pydicom\n",
            "Successfully installed pydicom-2.3.1\n"
          ]
        }
      ]
    },
    {
      "cell_type": "code",
      "source": [
        "import sys\n",
        "sys.path.insert(0,\"/content/drive/My Drive/FYP/RNN/ConditionalRNN\")"
      ],
      "metadata": {
        "id": "oOZzM6gofL0a"
      },
      "execution_count": null,
      "outputs": []
    },
    {
      "cell_type": "code",
      "source": [
        "import numpy as np\n",
        "import pandas as pd\n",
        "\n",
        "import os\n",
        "import matplotlib.pyplot as plt\n",
        "from tqdm import tqdm\n",
        "\n",
        "from sklearn.metrics import mean_absolute_error\n",
        "from sklearn.model_selection import KFold,GroupKFold\n",
        "\n",
        "import tensorflow as tf\n",
        "from cond_rnn import ConditionalRNN\n",
        "import tensorflow.keras.backend as K\n",
        "import tensorflow.keras.layers as L\n",
        "import tensorflow.keras.models as M\n",
        "from tensorflow.keras.optimizers import Adam,Nadam\n",
        "from tensorflow.keras import initializers"
      ],
      "metadata": {
        "id": "d2AjfPk9fcQ4"
      },
      "execution_count": null,
      "outputs": []
    },
    {
      "cell_type": "code",
      "source": [
        "import random\n",
        "def seed_everything(seed=2020):\n",
        "    random.seed(seed)\n",
        "    os.environ['PYTHONHASHSEED'] = str(seed)\n",
        "    np.random.seed(seed)\n",
        "    tf.random.set_seed(seed)\n",
        "    \n",
        "seed_everything(43)"
      ],
      "metadata": {
        "id": "HZy0hytFfhd7"
      },
      "execution_count": null,
      "outputs": []
    },
    {
      "cell_type": "code",
      "source": [
        "NFOLD = 5\n",
        "kf = KFold(n_splits=NFOLD)"
      ],
      "metadata": {
        "id": "Y-lxlaMofs8D"
      },
      "execution_count": null,
      "outputs": []
    },
    {
      "cell_type": "code",
      "source": [
        "ROOT = \"/content/drive/My Drive/FYP/RNN\""
      ],
      "metadata": {
        "id": "uyq88YPafvVI"
      },
      "execution_count": null,
      "outputs": []
    },
    {
      "cell_type": "code",
      "source": [
        "tr = pd.read_csv(f\"{ROOT}/train.csv\")\n",
        "tr.drop_duplicates(keep=False, inplace=True, subset=['Patient','Weeks'])\n",
        "chunk = pd.read_csv(f\"{ROOT}/test.csv\")\n",
        "\n",
        "print(\"add infos\")\n",
        "sub = pd.read_csv(f\"{ROOT}/sample_submission.csv\")\n",
        "sub['Patient'] = sub['Patient_Week'].apply(lambda x:x.split('_')[0])\n",
        "sub['Weeks'] = sub['Patient_Week'].apply(lambda x: int(x.split('_')[-1]))\n",
        "sub =  sub[['Patient','Weeks','Confidence','Patient_Week']]\n",
        "sub = sub.merge(chunk.drop('Weeks', axis=1), on=\"Patient\")"
      ],
      "metadata": {
        "colab": {
          "base_uri": "https://localhost:8080/"
        },
        "id": "FJdW8IA4f3VI",
        "outputId": "13374c25-4bcb-4703-da0a-f6eaeec98038"
      },
      "execution_count": null,
      "outputs": [
        {
          "output_type": "stream",
          "name": "stdout",
          "text": [
            "add infos\n"
          ]
        }
      ]
    },
    {
      "cell_type": "code",
      "source": [
        "tr['WHERE'] = 'train'\n",
        "chunk['WHERE'] = 'val'\n",
        "sub['WHERE'] = 'test'\n",
        "data = tr.append([chunk, sub])"
      ],
      "metadata": {
        "colab": {
          "base_uri": "https://localhost:8080/"
        },
        "id": "i3pazUH3f6fe",
        "outputId": "2c35d825-3eb4-4e5f-9b53-1e20563341ab"
      },
      "execution_count": null,
      "outputs": [
        {
          "output_type": "stream",
          "name": "stderr",
          "text": [
            "<ipython-input-11-ae39faceb727>:4: FutureWarning: The frame.append method is deprecated and will be removed from pandas in a future version. Use pandas.concat instead.\n",
            "  data = tr.append([chunk, sub])\n"
          ]
        }
      ]
    },
    {
      "cell_type": "code",
      "source": [
        "print(tr.shape, chunk.shape, sub.shape, data.shape)"
      ],
      "metadata": {
        "colab": {
          "base_uri": "https://localhost:8080/"
        },
        "id": "KcypgSqFga8u",
        "outputId": "377dd5ee-cac1-4443-d932-c78ba52faa4d"
      },
      "execution_count": null,
      "outputs": [
        {
          "output_type": "stream",
          "name": "stdout",
          "text": [
            "(1535, 8) (5, 8) (730, 10) (2270, 10)\n"
          ]
        }
      ]
    },
    {
      "cell_type": "code",
      "source": [
        "data['min_week'] = data['Weeks']\n",
        "data.loc[data.WHERE=='test','min_week'] = np.nan\n",
        "data['min_week'] = data.groupby('Patient')['min_week'].transform('min')"
      ],
      "metadata": {
        "id": "LWZDs2N3ggAx"
      },
      "execution_count": null,
      "outputs": []
    },
    {
      "cell_type": "code",
      "source": [
        "base = data.loc[data.Weeks == data.min_week]\n",
        "base = base[['Patient','FVC']].copy()\n",
        "base.columns = ['Patient','min_FVC']\n",
        "base['nb'] = 1\n",
        "base['nb'] = base.groupby('Patient')['nb'].transform('cumsum')\n",
        "base = base[base.nb==1]\n",
        "base.drop('nb', axis=1, inplace=True)"
      ],
      "metadata": {
        "id": "E7n0tiqbgiku"
      },
      "execution_count": null,
      "outputs": []
    },
    {
      "cell_type": "code",
      "source": [
        "data = data.merge(base, on='Patient', how='left')\n",
        "data['base_week'] = data['Weeks'] - data['min_week']\n",
        "del base"
      ],
      "metadata": {
        "id": "GMyrIvpNglwr"
      },
      "execution_count": null,
      "outputs": []
    },
    {
      "cell_type": "code",
      "source": [
        "# Create Alternate Categorical Features \n",
        "COLS = ['Sex','SmokingStatus']\n",
        "FE = []\n",
        "for col in COLS:\n",
        "    data[col] = pd.factorize(data[col])[0]\n",
        "FE.extend(COLS)\n",
        "#=================\n",
        "COLS = ['Sex','SmokingStatus']\n",
        "# FE = []\n",
        "for mod in data[col].unique():\n",
        "    FE.append(mod)\n",
        "    data[mod] = (data[col] == mod).astype(int)"
      ],
      "metadata": {
        "id": "o7vUJ0B8goYZ"
      },
      "execution_count": null,
      "outputs": []
    },
    {
      "cell_type": "code",
      "source": [
        "# Scale features to quantiles \n",
        "data['age'] = (data['Age'] - data['Age'].min() ) / ( data['Age'].max() - data['Age'].min() )\n",
        "data['BASE'] = (data['min_FVC'] - data['min_FVC'].min() ) / ( data['min_FVC'].max() - data['min_FVC'].min() )\n",
        "data['week'] = (data['base_week'] - data['base_week'].min() ) / ( data['base_week'].max() - data['base_week'].min() )\n",
        "data['percent'] = (data['Percent'] - data['Percent'].min() ) / ( data['Percent'].max() - data['Percent'].min() )\n",
        "FE += ['age','percent','week','BASE']"
      ],
      "metadata": {
        "id": "Oy8ur5gNgv3D"
      },
      "execution_count": null,
      "outputs": []
    },
    {
      "cell_type": "code",
      "source": [
        "tr = data.loc[data.WHERE=='train']\n",
        "chunk = data.loc[data.WHERE=='val']\n",
        "sub = data.loc[data.WHERE=='test']\n",
        "del data"
      ],
      "metadata": {
        "id": "BRbWJg7Ggykl"
      },
      "execution_count": null,
      "outputs": []
    },
    {
      "cell_type": "code",
      "source": [
        "print(tr.shape, chunk.shape, sub.shape)"
      ],
      "metadata": {
        "colab": {
          "base_uri": "https://localhost:8080/"
        },
        "id": "ut11uoW9g077",
        "outputId": "80aacefa-96ab-4ff0-a0a1-7c21e907eb13"
      },
      "execution_count": null,
      "outputs": [
        {
          "output_type": "stream",
          "name": "stdout",
          "text": [
            "(1535, 20) (5, 20) (730, 20)\n"
          ]
        }
      ]
    },
    {
      "cell_type": "code",
      "source": [
        "tr[FE]"
      ],
      "metadata": {
        "colab": {
          "base_uri": "https://localhost:8080/",
          "height": 423
        },
        "id": "Y5jwL_yBg24S",
        "outputId": "d42d2be8-fae5-4733-e5ce-5d0086a89446"
      },
      "execution_count": null,
      "outputs": [
        {
          "output_type": "execute_result",
          "data": {
            "text/plain": [
              "      Sex  SmokingStatus  0  1  2       age   percent      week      BASE\n",
              "0       0              0  1  0  0  0.769231  0.236393  0.179012  0.241456\n",
              "1       0              0  1  0  0  0.769231  0.215941  0.234568  0.241456\n",
              "2       0              0  1  0  0  0.769231  0.184960  0.246914  0.241456\n",
              "3       0              0  1  0  0  0.769231  0.201767  0.259259  0.241456\n",
              "4       0              0  1  0  0  0.769231  0.186580  0.271605  0.241456\n",
              "...   ...            ... .. .. ..       ...       ...       ...       ...\n",
              "1530    0              1  0  1  0  0.615385  0.303514  0.259259  0.354755\n",
              "1531    0              1  0  1  0  0.615385  0.356076  0.296296  0.354755\n",
              "1532    0              1  0  1  0  0.615385  0.342244  0.370370  0.354755\n",
              "1533    0              1  0  1  0  0.615385  0.355484  0.444444  0.354755\n",
              "1534    0              1  0  1  0  0.615385  0.315766  0.543210  0.354755\n",
              "\n",
              "[1535 rows x 9 columns]"
            ],
            "text/html": [
              "\n",
              "  <div id=\"df-308c1cd4-7ec7-402d-b474-bff4b8b3bf5a\">\n",
              "    <div class=\"colab-df-container\">\n",
              "      <div>\n",
              "<style scoped>\n",
              "    .dataframe tbody tr th:only-of-type {\n",
              "        vertical-align: middle;\n",
              "    }\n",
              "\n",
              "    .dataframe tbody tr th {\n",
              "        vertical-align: top;\n",
              "    }\n",
              "\n",
              "    .dataframe thead th {\n",
              "        text-align: right;\n",
              "    }\n",
              "</style>\n",
              "<table border=\"1\" class=\"dataframe\">\n",
              "  <thead>\n",
              "    <tr style=\"text-align: right;\">\n",
              "      <th></th>\n",
              "      <th>Sex</th>\n",
              "      <th>SmokingStatus</th>\n",
              "      <th>0</th>\n",
              "      <th>1</th>\n",
              "      <th>2</th>\n",
              "      <th>age</th>\n",
              "      <th>percent</th>\n",
              "      <th>week</th>\n",
              "      <th>BASE</th>\n",
              "    </tr>\n",
              "  </thead>\n",
              "  <tbody>\n",
              "    <tr>\n",
              "      <th>0</th>\n",
              "      <td>0</td>\n",
              "      <td>0</td>\n",
              "      <td>1</td>\n",
              "      <td>0</td>\n",
              "      <td>0</td>\n",
              "      <td>0.769231</td>\n",
              "      <td>0.236393</td>\n",
              "      <td>0.179012</td>\n",
              "      <td>0.241456</td>\n",
              "    </tr>\n",
              "    <tr>\n",
              "      <th>1</th>\n",
              "      <td>0</td>\n",
              "      <td>0</td>\n",
              "      <td>1</td>\n",
              "      <td>0</td>\n",
              "      <td>0</td>\n",
              "      <td>0.769231</td>\n",
              "      <td>0.215941</td>\n",
              "      <td>0.234568</td>\n",
              "      <td>0.241456</td>\n",
              "    </tr>\n",
              "    <tr>\n",
              "      <th>2</th>\n",
              "      <td>0</td>\n",
              "      <td>0</td>\n",
              "      <td>1</td>\n",
              "      <td>0</td>\n",
              "      <td>0</td>\n",
              "      <td>0.769231</td>\n",
              "      <td>0.184960</td>\n",
              "      <td>0.246914</td>\n",
              "      <td>0.241456</td>\n",
              "    </tr>\n",
              "    <tr>\n",
              "      <th>3</th>\n",
              "      <td>0</td>\n",
              "      <td>0</td>\n",
              "      <td>1</td>\n",
              "      <td>0</td>\n",
              "      <td>0</td>\n",
              "      <td>0.769231</td>\n",
              "      <td>0.201767</td>\n",
              "      <td>0.259259</td>\n",
              "      <td>0.241456</td>\n",
              "    </tr>\n",
              "    <tr>\n",
              "      <th>4</th>\n",
              "      <td>0</td>\n",
              "      <td>0</td>\n",
              "      <td>1</td>\n",
              "      <td>0</td>\n",
              "      <td>0</td>\n",
              "      <td>0.769231</td>\n",
              "      <td>0.186580</td>\n",
              "      <td>0.271605</td>\n",
              "      <td>0.241456</td>\n",
              "    </tr>\n",
              "    <tr>\n",
              "      <th>...</th>\n",
              "      <td>...</td>\n",
              "      <td>...</td>\n",
              "      <td>...</td>\n",
              "      <td>...</td>\n",
              "      <td>...</td>\n",
              "      <td>...</td>\n",
              "      <td>...</td>\n",
              "      <td>...</td>\n",
              "      <td>...</td>\n",
              "    </tr>\n",
              "    <tr>\n",
              "      <th>1530</th>\n",
              "      <td>0</td>\n",
              "      <td>1</td>\n",
              "      <td>0</td>\n",
              "      <td>1</td>\n",
              "      <td>0</td>\n",
              "      <td>0.615385</td>\n",
              "      <td>0.303514</td>\n",
              "      <td>0.259259</td>\n",
              "      <td>0.354755</td>\n",
              "    </tr>\n",
              "    <tr>\n",
              "      <th>1531</th>\n",
              "      <td>0</td>\n",
              "      <td>1</td>\n",
              "      <td>0</td>\n",
              "      <td>1</td>\n",
              "      <td>0</td>\n",
              "      <td>0.615385</td>\n",
              "      <td>0.356076</td>\n",
              "      <td>0.296296</td>\n",
              "      <td>0.354755</td>\n",
              "    </tr>\n",
              "    <tr>\n",
              "      <th>1532</th>\n",
              "      <td>0</td>\n",
              "      <td>1</td>\n",
              "      <td>0</td>\n",
              "      <td>1</td>\n",
              "      <td>0</td>\n",
              "      <td>0.615385</td>\n",
              "      <td>0.342244</td>\n",
              "      <td>0.370370</td>\n",
              "      <td>0.354755</td>\n",
              "    </tr>\n",
              "    <tr>\n",
              "      <th>1533</th>\n",
              "      <td>0</td>\n",
              "      <td>1</td>\n",
              "      <td>0</td>\n",
              "      <td>1</td>\n",
              "      <td>0</td>\n",
              "      <td>0.615385</td>\n",
              "      <td>0.355484</td>\n",
              "      <td>0.444444</td>\n",
              "      <td>0.354755</td>\n",
              "    </tr>\n",
              "    <tr>\n",
              "      <th>1534</th>\n",
              "      <td>0</td>\n",
              "      <td>1</td>\n",
              "      <td>0</td>\n",
              "      <td>1</td>\n",
              "      <td>0</td>\n",
              "      <td>0.615385</td>\n",
              "      <td>0.315766</td>\n",
              "      <td>0.543210</td>\n",
              "      <td>0.354755</td>\n",
              "    </tr>\n",
              "  </tbody>\n",
              "</table>\n",
              "<p>1535 rows × 9 columns</p>\n",
              "</div>\n",
              "      <button class=\"colab-df-convert\" onclick=\"convertToInteractive('df-308c1cd4-7ec7-402d-b474-bff4b8b3bf5a')\"\n",
              "              title=\"Convert this dataframe to an interactive table.\"\n",
              "              style=\"display:none;\">\n",
              "        \n",
              "  <svg xmlns=\"http://www.w3.org/2000/svg\" height=\"24px\"viewBox=\"0 0 24 24\"\n",
              "       width=\"24px\">\n",
              "    <path d=\"M0 0h24v24H0V0z\" fill=\"none\"/>\n",
              "    <path d=\"M18.56 5.44l.94 2.06.94-2.06 2.06-.94-2.06-.94-.94-2.06-.94 2.06-2.06.94zm-11 1L8.5 8.5l.94-2.06 2.06-.94-2.06-.94L8.5 2.5l-.94 2.06-2.06.94zm10 10l.94 2.06.94-2.06 2.06-.94-2.06-.94-.94-2.06-.94 2.06-2.06.94z\"/><path d=\"M17.41 7.96l-1.37-1.37c-.4-.4-.92-.59-1.43-.59-.52 0-1.04.2-1.43.59L10.3 9.45l-7.72 7.72c-.78.78-.78 2.05 0 2.83L4 21.41c.39.39.9.59 1.41.59.51 0 1.02-.2 1.41-.59l7.78-7.78 2.81-2.81c.8-.78.8-2.07 0-2.86zM5.41 20L4 18.59l7.72-7.72 1.47 1.35L5.41 20z\"/>\n",
              "  </svg>\n",
              "      </button>\n",
              "      \n",
              "  <style>\n",
              "    .colab-df-container {\n",
              "      display:flex;\n",
              "      flex-wrap:wrap;\n",
              "      gap: 12px;\n",
              "    }\n",
              "\n",
              "    .colab-df-convert {\n",
              "      background-color: #E8F0FE;\n",
              "      border: none;\n",
              "      border-radius: 50%;\n",
              "      cursor: pointer;\n",
              "      display: none;\n",
              "      fill: #1967D2;\n",
              "      height: 32px;\n",
              "      padding: 0 0 0 0;\n",
              "      width: 32px;\n",
              "    }\n",
              "\n",
              "    .colab-df-convert:hover {\n",
              "      background-color: #E2EBFA;\n",
              "      box-shadow: 0px 1px 2px rgba(60, 64, 67, 0.3), 0px 1px 3px 1px rgba(60, 64, 67, 0.15);\n",
              "      fill: #174EA6;\n",
              "    }\n",
              "\n",
              "    [theme=dark] .colab-df-convert {\n",
              "      background-color: #3B4455;\n",
              "      fill: #D2E3FC;\n",
              "    }\n",
              "\n",
              "    [theme=dark] .colab-df-convert:hover {\n",
              "      background-color: #434B5C;\n",
              "      box-shadow: 0px 1px 3px 1px rgba(0, 0, 0, 0.15);\n",
              "      filter: drop-shadow(0px 1px 2px rgba(0, 0, 0, 0.3));\n",
              "      fill: #FFFFFF;\n",
              "    }\n",
              "  </style>\n",
              "\n",
              "      <script>\n",
              "        const buttonEl =\n",
              "          document.querySelector('#df-308c1cd4-7ec7-402d-b474-bff4b8b3bf5a button.colab-df-convert');\n",
              "        buttonEl.style.display =\n",
              "          google.colab.kernel.accessAllowed ? 'block' : 'none';\n",
              "\n",
              "        async function convertToInteractive(key) {\n",
              "          const element = document.querySelector('#df-308c1cd4-7ec7-402d-b474-bff4b8b3bf5a');\n",
              "          const dataTable =\n",
              "            await google.colab.kernel.invokeFunction('convertToInteractive',\n",
              "                                                     [key], {});\n",
              "          if (!dataTable) return;\n",
              "\n",
              "          const docLinkHtml = 'Like what you see? Visit the ' +\n",
              "            '<a target=\"_blank\" href=https://colab.research.google.com/notebooks/data_table.ipynb>data table notebook</a>'\n",
              "            + ' to learn more about interactive tables.';\n",
              "          element.innerHTML = '';\n",
              "          dataTable['output_type'] = 'display_data';\n",
              "          await google.colab.output.renderOutput(dataTable, element);\n",
              "          const docLink = document.createElement('div');\n",
              "          docLink.innerHTML = docLinkHtml;\n",
              "          element.appendChild(docLink);\n",
              "        }\n",
              "      </script>\n",
              "    </div>\n",
              "  </div>\n",
              "  "
            ]
          },
          "metadata": {},
          "execution_count": 20
        }
      ]
    },
    {
      "cell_type": "code",
      "source": [
        "# Get Features\n",
        "# groups = tr['Patient']\n",
        "y = tr['FVC'].values\n",
        "z = tr[FE].values\n",
        "ze = sub[FE].values\n",
        "# --------------------------------------------------------\n",
        "#Create oof and prediction arrays\n",
        "pe = np.zeros((ze.shape[0], 3))\n",
        "pred = np.zeros((z.shape[0], 3))\n",
        "# --------------------------------------------------------\n",
        "#Split the train set's categorical and measurement features\n",
        "train_categories = z[:,0:5]#normal shape\n",
        "train_measurements = z[:,5:].reshape(z.shape[0],1,-1)#[batch, timesteps, features]\n",
        "# --------------------------------------------------------\n",
        "#Split the test set's categorical and measurement features\n",
        "test_categories = ze[:,0:5] #normal shape\n",
        "test_measurements = ze[:,5:].reshape(ze.shape[0],1,-1)#[batch, timesteps, features]"
      ],
      "metadata": {
        "id": "cphJduOPg5WG"
      },
      "execution_count": null,
      "outputs": []
    },
    {
      "cell_type": "code",
      "source": [
        "C1, C2 = tf.constant(70, dtype='float32'), tf.constant(1000, dtype=\"float32\")\n",
        "#=============================#\n",
        "def score(y_true, y_pred):\n",
        "    tf.dtypes.cast(y_true, tf.float32)\n",
        "    tf.dtypes.cast(y_pred, tf.float32)\n",
        "    \n",
        "    sigma = y_pred[:, 2] - y_pred[:, 0]\n",
        "    fvc_pred = y_pred[:, 1]\n",
        "    \n",
        "    #sigma_clip = sigma + C1\n",
        "    sigma_clip = tf.maximum(sigma, C1)\n",
        "    # print(y_true[:, 0])\n",
        "    # print(fvc_pred)\n",
        "    y_true=float(y_true[:, 0])\n",
        "    delta = tf.abs(y_true - fvc_pred)\n",
        "    # print(\"hi\")\n",
        "    delta = tf.minimum(delta, C2)\n",
        "    sq2 = tf.sqrt( tf.dtypes.cast(2, dtype=tf.float32) )\n",
        "    metric = (delta / sigma_clip)*sq2 + tf.math.log(sigma_clip* sq2)\n",
        "    return K.mean(metric)\n",
        "#============================#\n",
        "def qloss(y_true, y_pred):\n",
        "    # Pinball loss for multiple quantiles\n",
        "    qs = [0.2, 0.50, 0.8]\n",
        "    q = tf.constant(np.array([qs]), dtype=tf.float32)\n",
        "    y_true=float(y_true)\n",
        "    e = y_true - y_pred\n",
        "    # print(\"hi\")\n",
        "   \n",
        "    v = tf.maximum(q*e, (q-1)*e)\n",
        "    return K.mean(v)\n",
        "#=============================#\n",
        "def mloss(_lambda):\n",
        "    def loss(y_true, y_pred):\n",
        "        # print(y_pred)\n",
        "        return _lambda * qloss(y_true, y_pred) + (1 - _lambda)*score(y_true, y_pred)\n",
        "    return loss"
      ],
      "metadata": {
        "id": "XBwBzonIg80G"
      },
      "execution_count": null,
      "outputs": []
    },
    {
      "cell_type": "code",
      "source": [
        "class MySimpleModel(tf.keras.Model):\n",
        "    def __init__(self):\n",
        "        super(MySimpleModel, self).__init__()\n",
        "        self.cond = ConditionalRNN(100, cell='LSTM', dtype=tf.float32)\n",
        "        self.x = L.Dense(100, activation='elu',kernel_initializer='he_uniform', name=\"d2\")\n",
        "        self.p1 = L.Dense(3, activation=\"linear\", name=\"p1\")\n",
        "        self.p2 = L.Dense(3, activation=\"relu\",kernel_initializer='he_uniform', name=\"p2\")\n",
        "        self.preds = L.Lambda(lambda x: x[0] + tf.cumsum(x[1], axis=1), \n",
        "                         name=\"preds\")\n",
        "\n",
        "    def call(self, inputs, **kwargs):\n",
        "        o = self.cond(inputs)\n",
        "        o = self.x(o)\n",
        "        linear = self.p1(o)\n",
        "        relu = self.p2(o)\n",
        "        o = self.preds([linear,relu])\n",
        "        return o"
      ],
      "metadata": {
        "id": "tYd9mUmChA7q"
      },
      "execution_count": null,
      "outputs": []
    },
    {
      "cell_type": "code",
      "source": [
        "net = MySimpleModel()\n",
        "net.call([train_measurements,train_categories])\n",
        "net.compile(optimizer='adam', loss=mloss(0.8), metrics=[score])\n",
        "# optimizer = tf.keras.optimizers.Adam(learning_rate=0.001)"
      ],
      "metadata": {
        "id": "IpK1dryuhDta"
      },
      "execution_count": null,
      "outputs": []
    },
    {
      "cell_type": "code",
      "source": [
        "# Just double checking model inpute\n",
        "print(train_measurements.shape,train_categories.shape)"
      ],
      "metadata": {
        "colab": {
          "base_uri": "https://localhost:8080/"
        },
        "id": "bFIHRiD6hH4T",
        "outputId": "c74902c9-afdf-408f-cb66-5dcdc281243c"
      },
      "execution_count": null,
      "outputs": [
        {
          "output_type": "stream",
          "name": "stdout",
          "text": [
            "(1535, 1, 4) (1535, 5)\n"
          ]
        }
      ]
    },
    {
      "cell_type": "code",
      "source": [
        "# Setting jit/xla for greater efficiency \n",
        "tf.keras.backend.clear_session()\n",
        "tf.config.optimizer.set_jit(True)"
      ],
      "metadata": {
        "id": "G0c_enTchLNR"
      },
      "execution_count": null,
      "outputs": []
    },
    {
      "cell_type": "code",
      "source": [
        "%%time\n",
        "cnt = 0\n",
        "BatchSize = 200\n",
        "for tr_idx, val_idx in kf.split(z):\n",
        "    cnt += 1\n",
        "    \n",
        "    print(f\"FOLD {cnt}\")\n",
        "#     with tf.device('/gpu:0'):\n",
        "    net.fit([train_measurements[tr_idx,:,:],train_categories[tr_idx,:]], pd.Series(y[tr_idx].astype(float).flatten()), batch_size=BatchSize, epochs=800, \n",
        "    validation_data=([train_measurements[val_idx,:,:],train_categories[val_idx,:]], pd.Series(y[val_idx].astype(float).flatten())), verbose=0) #\n",
        "    print(\"train\", net.evaluate([train_measurements[tr_idx,:,:],train_categories[tr_idx,:]], y[tr_idx], verbose=0, batch_size=BatchSize))\n",
        "    print(\"val\", net.evaluate([train_measurements[val_idx,:,:],train_categories[val_idx,:]], y[val_idx], verbose=0, batch_size=BatchSize))\n",
        "    print(\"predict val...\")\n",
        "    pred[val_idx] = net.predict([train_measurements[val_idx,:,:],train_categories[val_idx,:]], batch_size=BatchSize, verbose=0)\n",
        "    print(\"predict test...\")\n",
        "    pe += net.predict([test_measurements,test_categories], batch_size=BatchSize, verbose=0) / NFOLD\n",
        "# =============="
      ],
      "metadata": {
        "colab": {
          "base_uri": "https://localhost:8080/"
        },
        "id": "JkkImXfShNsd",
        "outputId": "84e86e65-a879-4e26-978c-b40ab9255062"
      },
      "execution_count": null,
      "outputs": [
        {
          "output_type": "stream",
          "name": "stdout",
          "text": [
            "FOLD 1\n",
            "train [39.79130935668945, 6.564958095550537]\n",
            "val [50.899295806884766, 6.720841407775879]\n",
            "predict val...\n",
            "predict test...\n",
            "FOLD 2\n",
            "train [39.78903579711914, 6.567624092102051]\n",
            "val [46.438720703125, 6.644113063812256]\n",
            "predict val...\n",
            "predict test...\n",
            "FOLD 3\n",
            "train [38.27469253540039, 6.509463310241699]\n",
            "val [49.41466522216797, 6.718761444091797]\n",
            "predict val...\n",
            "predict test...\n",
            "FOLD 4\n",
            "train [38.280540466308594, 6.528077125549316]\n",
            "val [43.04805374145508, 6.627887725830078]\n",
            "predict val...\n",
            "predict test...\n",
            "FOLD 5\n",
            "train [35.6562614440918, 6.358656883239746]\n",
            "val [48.156734466552734, 6.73057222366333]\n",
            "predict val...\n",
            "predict test...\n",
            "CPU times: user 7min 15s, sys: 16.6 s, total: 7min 32s\n",
            "Wall time: 6min 42s\n"
          ]
        }
      ]
    },
    {
      "cell_type": "code",
      "source": [
        "sigma_opt = mean_absolute_error(y, pred[:,1])\n",
        "unc = pred[:,2] - pred[:, 0]\n",
        "sigma_mean = np.mean(unc)\n",
        "print(sigma_opt, sigma_mean)"
      ],
      "metadata": {
        "colab": {
          "base_uri": "https://localhost:8080/"
        },
        "id": "LjymFaaRhRQm",
        "outputId": "80241971-79bb-4355-91bd-0c4b05724c6e"
      },
      "execution_count": null,
      "outputs": [
        {
          "output_type": "stream",
          "name": "stdout",
          "text": [
            "138.5999644524888 235.55480304929256\n"
          ]
        }
      ]
    },
    {
      "cell_type": "code",
      "source": [
        "increment = 0.001\n",
        "error = []\n",
        "for i in np.arange(0,1,increment):\n",
        "    quant_5 = np.quantile(pred,i,axis=1)\n",
        "#     print(mean_absolute_error(y,quant_5))\n",
        "    error.append(mean_absolute_error(y,quant_5))\n",
        "    \n",
        "print('Best Quantile:',np.arange(0,1,increment)[np.argmin(error)])\n",
        "print('Best MAE of Optimized Quantile:',error[np.argmin(error)])\n",
        "print('Baseline MAE:', mean_absolute_error(y,pred[:,1]))\n",
        "# Optimized vs Baseline Graphs\n",
        "plt.plot(quant_5,c='g')\n",
        "plt.title('Optimized vs Baseline')\n",
        "plt.plot(pred[:,1])\n",
        "plt.plot(y)\n",
        "plt.tight_layout()\n",
        "plt.show()"
      ],
      "metadata": {
        "colab": {
          "base_uri": "https://localhost:8080/",
          "height": 539
        },
        "id": "zC-SfSHrjvF5",
        "outputId": "28f7d3e4-067e-4182-c846-d420602ce62c"
      },
      "execution_count": null,
      "outputs": [
        {
          "output_type": "stream",
          "name": "stdout",
          "text": [
            "Best Quantile: 0.44\n",
            "Best MAE of Optimized Quantile: 138.0060035420272\n",
            "Baseline MAE: 138.5999644524888\n"
          ]
        },
        {
          "output_type": "display_data",
          "data": {
            "text/plain": [
              "<Figure size 640x480 with 1 Axes>"
            ],
            "image/png": "[encoded data removed]"
          },
          "metadata": {}
        }
      ]
    },
    {
      "cell_type": "code",
      "source": [
        "import math\n",
        "import scipy as sp\n",
        "from functools import partial\n",
        "scoring_df = pd.DataFrame(z)\n",
        "scoring_df['FVC_pred'] = pred[:,1]\n",
        "scoring_df['FVC'] = y\n",
        "# baseline score\n",
        "scoring_df['Confidence'] = 100\n",
        "scoring_df['sigma_clipped'] = scoring_df['Confidence'].apply(lambda x: max(x, 70))\n",
        "scoring_df['diff'] = abs(scoring_df['FVC'] - scoring_df['FVC_pred'])\n",
        "scoring_df['delta'] = scoring_df['diff'].apply(lambda x: min(x, 1000))\n",
        "scoring_df['score'] = -math.sqrt(2)*scoring_df['delta']/scoring_df['sigma_clipped'] - np.log(math.sqrt(2)*scoring_df['sigma_clipped'])\n",
        "score = scoring_df['score'].mean()\n",
        "print(score)\n",
        "\n",
        "def loss_func(weight, row):\n",
        "    confidence = weight\n",
        "    sigma_clipped = max(confidence, 70)\n",
        "    diff = abs(row['FVC'] - row['FVC_pred'])\n",
        "    delta = min(diff, 1000)\n",
        "    score = -math.sqrt(2)*delta/sigma_clipped - np.log(math.sqrt(2)*sigma_clipped)\n",
        "    return -score\n",
        "\n",
        "results = []\n",
        "tk0 = tqdm(scoring_df.iterrows(), total=len(scoring_df))\n",
        "for _, row in tk0:\n",
        "    loss_partial = partial(loss_func, row=row)\n",
        "    weight = [100]\n",
        "    result = sp.optimize.minimize(loss_partial, weight, method='SLSQP')\n",
        "    x = result['x']\n",
        "    results.append(x[0])\n",
        "\n",
        "# optimized score\n",
        "scoring_df['Confidence'] = results\n",
        "scoring_df['sigma_clipped'] = scoring_df['Confidence'].apply(lambda x: max(x, 70))\n",
        "scoring_df['diff'] = abs(scoring_df['FVC'] - scoring_df['FVC_pred'])\n",
        "scoring_df['delta'] = scoring_df['diff'].apply(lambda x: min(x, 1000))\n",
        "scoring_df['score'] = -math.sqrt(2)*scoring_df['delta']/scoring_df['sigma_clipped'] - np.log(math.sqrt(2)*scoring_df['sigma_clipped'])\n",
        "score = scoring_df['score'].mean()\n",
        "print(score)"
      ],
      "metadata": {
        "colab": {
          "base_uri": "https://localhost:8080/"
        },
        "id": "nBiOl18XjyE5",
        "outputId": "c0615da9-7e00-47f3-f34a-ac47867d08a2"
      },
      "execution_count": null,
      "outputs": [
        {
          "output_type": "stream",
          "name": "stdout",
          "text": [
            "-6.911665540602519\n"
          ]
        },
        {
          "output_type": "stream",
          "name": "stderr",
          "text": [
            "100%|██████████| 1535/1535 [00:09<00:00, 167.65it/s]"
          ]
        },
        {
          "output_type": "stream",
          "name": "stdout",
          "text": [
            "-6.28066248423373\n"
          ]
        },
        {
          "output_type": "stream",
          "name": "stderr",
          "text": [
            "\n"
          ]
        }
      ]
    },
    {
      "cell_type": "code",
      "source": [
        "idxs = np.random.randint(0, y.shape[0], 100)\n",
        "plt.plot(y[idxs], label=\"ground truth\")\n",
        "plt.plot(pred[idxs, 0], label=\"q25\")\n",
        "plt.plot(pred[idxs, 1], label=\"q50\")\n",
        "plt.plot(pred[idxs, 2], label=\"q75\")\n",
        "plt.legend(loc=\"best\")\n",
        "plt.show()"
      ],
      "metadata": {
        "colab": {
          "base_uri": "https://localhost:8080/",
          "height": 430
        },
        "id": "TjtdWqWSj1_v",
        "outputId": "14806acc-3704-44fb-b896-98345dbf235f"
      },
      "execution_count": null,
      "outputs": [
        {
          "output_type": "display_data",
          "data": {
            "text/plain": [
              "<Figure size 640x480 with 1 Axes>"
            ],
            "image/png": "[encoded data removed]"
          },
          "metadata": {}
        }
      ]
    },
    {
      "cell_type": "code",
      "source": [
        "print(unc.min(), unc.mean(), unc.max(), (unc>=0).mean())"
      ],
      "metadata": {
        "colab": {
          "base_uri": "https://localhost:8080/"
        },
        "id": "wb1Wfr8Cj-jg",
        "outputId": "f3cee32a-d279-472b-c64d-21be362e251d"
      },
      "execution_count": null,
      "outputs": [
        {
          "output_type": "stream",
          "name": "stdout",
          "text": [
            "65.94677734375 235.55480304929256 293.119873046875 1.0\n"
          ]
        }
      ]
    },
    {
      "cell_type": "code",
      "source": [
        "plt.hist(unc)\n",
        "plt.title(\"Difference between 20th and 80th Quantiles\")\n",
        "plt.show()"
      ],
      "metadata": {
        "colab": {
          "base_uri": "https://localhost:8080/",
          "height": 452
        },
        "id": "85WIrDcUkBFH",
        "outputId": "94d3215b-03cd-403e-92e7-e4064378b4d7"
      },
      "execution_count": null,
      "outputs": [
        {
          "output_type": "display_data",
          "data": {
            "text/plain": [
              "<Figure size 640x480 with 1 Axes>"
            ],
            "image/png": "[encoded data removed]"
          },
          "metadata": {}
        }
      ]
    },
    {
      "cell_type": "code",
      "source": [
        "sub['FVC1'] = pe[:,1]\n",
        "sub['Confidence1'] = (pe[:, 2] - pe[:, 0])"
      ],
      "metadata": {
        "id": "l4D6_DGSkDET"
      },
      "execution_count": null,
      "outputs": []
    },
    {
      "cell_type": "code",
      "source": [
        "subm = sub[['Patient_Week','FVC','Confidence','FVC1','Confidence1']].copy()"
      ],
      "metadata": {
        "id": "sGsFXr3ukFvR"
      },
      "execution_count": null,
      "outputs": []
    },
    {
      "cell_type": "code",
      "source": [
        "subm.loc[~subm.FVC1.isnull()].head(10)"
      ],
      "metadata": {
        "colab": {
          "base_uri": "https://localhost:8080/",
          "height": 363
        },
        "id": "YpcOyre8kJoz",
        "outputId": "72706d08-7ba5-4f6a-8693-3bdc028b1b61"
      },
      "execution_count": null,
      "outputs": [
        {
          "output_type": "execute_result",
          "data": {
            "text/plain": [
              "                       Patient_Week   FVC  Confidence         FVC1  \\\n",
              "1540  ID00419637202311204720264_-12  3020       100.0  2877.337646   \n",
              "1541  ID00419637202311204720264_-11  3020       100.0  2874.982544   \n",
              "1542  ID00419637202311204720264_-10  3020       100.0  2872.632935   \n",
              "1543   ID00419637202311204720264_-9  3020       100.0  2870.288757   \n",
              "1544   ID00419637202311204720264_-8  3020       100.0  2867.950073   \n",
              "1545   ID00419637202311204720264_-7  3020       100.0  2865.616882   \n",
              "1546   ID00419637202311204720264_-6  3020       100.0  2863.288635   \n",
              "1547   ID00419637202311204720264_-5  3020       100.0  2860.966187   \n",
              "1548   ID00419637202311204720264_-4  3020       100.0  2858.649231   \n",
              "1549   ID00419637202311204720264_-3  3020       100.0  2856.337463   \n",
              "\n",
              "      Confidence1  \n",
              "1540   270.157532  \n",
              "1541   270.256348  \n",
              "1542   270.354858  \n",
              "1543   270.453003  \n",
              "1544   270.550842  \n",
              "1545   270.648376  \n",
              "1546   270.745544  \n",
              "1547   270.842285  \n",
              "1548   270.938843  \n",
              "1549   271.034912  "
            ],
            "text/html": [
              "\n",
              "  <div id=\"df-2566918c-5bc0-4ea6-b99c-6213f5878ef0\">\n",
              "    <div class=\"colab-df-container\">\n",
              "      <div>\n",
              "<style scoped>\n",
              "    .dataframe tbody tr th:only-of-type {\n",
              "        vertical-align: middle;\n",
              "    }\n",
              "\n",
              "    .dataframe tbody tr th {\n",
              "        vertical-align: top;\n",
              "    }\n",
              "\n",
              "    .dataframe thead th {\n",
              "        text-align: right;\n",
              "    }\n",
              "</style>\n",
              "<table border=\"1\" class=\"dataframe\">\n",
              "  <thead>\n",
              "    <tr style=\"text-align: right;\">\n",
              "      <th></th>\n",
              "      <th>Patient_Week</th>\n",
              "      <th>FVC</th>\n",
              "      <th>Confidence</th>\n",
              "      <th>FVC1</th>\n",
              "      <th>Confidence1</th>\n",
              "    </tr>\n",
              "  </thead>\n",
              "  <tbody>\n",
              "    <tr>\n",
              "      <th>1540</th>\n",
              "      <td>ID00419637202311204720264_-12</td>\n",
              "      <td>3020</td>\n",
              "      <td>100.0</td>\n",
              "      <td>2877.337646</td>\n",
              "      <td>270.157532</td>\n",
              "    </tr>\n",
              "    <tr>\n",
              "      <th>1541</th>\n",
              "      <td>ID00419637202311204720264_-11</td>\n",
              "      <td>3020</td>\n",
              "      <td>100.0</td>\n",
              "      <td>2874.982544</td>\n",
              "      <td>270.256348</td>\n",
              "    </tr>\n",
              "    <tr>\n",
              "      <th>1542</th>\n",
              "      <td>ID00419637202311204720264_-10</td>\n",
              "      <td>3020</td>\n",
              "      <td>100.0</td>\n",
              "      <td>2872.632935</td>\n",
              "      <td>270.354858</td>\n",
              "    </tr>\n",
              "    <tr>\n",
              "      <th>1543</th>\n",
              "      <td>ID00419637202311204720264_-9</td>\n",
              "      <td>3020</td>\n",
              "      <td>100.0</td>\n",
              "      <td>2870.288757</td>\n",
              "      <td>270.453003</td>\n",
              "    </tr>\n",
              "    <tr>\n",
              "      <th>1544</th>\n",
              "      <td>ID00419637202311204720264_-8</td>\n",
              "      <td>3020</td>\n",
              "      <td>100.0</td>\n",
              "      <td>2867.950073</td>\n",
              "      <td>270.550842</td>\n",
              "    </tr>\n",
              "    <tr>\n",
              "      <th>1545</th>\n",
              "      <td>ID00419637202311204720264_-7</td>\n",
              "      <td>3020</td>\n",
              "      <td>100.0</td>\n",
              "      <td>2865.616882</td>\n",
              "      <td>270.648376</td>\n",
              "    </tr>\n",
              "    <tr>\n",
              "      <th>1546</th>\n",
              "      <td>ID00419637202311204720264_-6</td>\n",
              "      <td>3020</td>\n",
              "      <td>100.0</td>\n",
              "      <td>2863.288635</td>\n",
              "      <td>270.745544</td>\n",
              "    </tr>\n",
              "    <tr>\n",
              "      <th>1547</th>\n",
              "      <td>ID00419637202311204720264_-5</td>\n",
              "      <td>3020</td>\n",
              "      <td>100.0</td>\n",
              "      <td>2860.966187</td>\n",
              "      <td>270.842285</td>\n",
              "    </tr>\n",
              "    <tr>\n",
              "      <th>1548</th>\n",
              "      <td>ID00419637202311204720264_-4</td>\n",
              "      <td>3020</td>\n",
              "      <td>100.0</td>\n",
              "      <td>2858.649231</td>\n",
              "      <td>270.938843</td>\n",
              "    </tr>\n",
              "    <tr>\n",
              "      <th>1549</th>\n",
              "      <td>ID00419637202311204720264_-3</td>\n",
              "      <td>3020</td>\n",
              "      <td>100.0</td>\n",
              "      <td>2856.337463</td>\n",
              "      <td>271.034912</td>\n",
              "    </tr>\n",
              "  </tbody>\n",
              "</table>\n",
              "</div>\n",
              "      <button class=\"colab-df-convert\" onclick=\"convertToInteractive('df-2566918c-5bc0-4ea6-b99c-6213f5878ef0')\"\n",
              "              title=\"Convert this dataframe to an interactive table.\"\n",
              "              style=\"display:none;\">\n",
              "        \n",
              "  <svg xmlns=\"http://www.w3.org/2000/svg\" height=\"24px\"viewBox=\"0 0 24 24\"\n",
              "       width=\"24px\">\n",
              "    <path d=\"M0 0h24v24H0V0z\" fill=\"none\"/>\n",
              "    <path d=\"M18.56 5.44l.94 2.06.94-2.06 2.06-.94-2.06-.94-.94-2.06-.94 2.06-2.06.94zm-11 1L8.5 8.5l.94-2.06 2.06-.94-2.06-.94L8.5 2.5l-.94 2.06-2.06.94zm10 10l.94 2.06.94-2.06 2.06-.94-2.06-.94-.94-2.06-.94 2.06-2.06.94z\"/><path d=\"M17.41 7.96l-1.37-1.37c-.4-.4-.92-.59-1.43-.59-.52 0-1.04.2-1.43.59L10.3 9.45l-7.72 7.72c-.78.78-.78 2.05 0 2.83L4 21.41c.39.39.9.59 1.41.59.51 0 1.02-.2 1.41-.59l7.78-7.78 2.81-2.81c.8-.78.8-2.07 0-2.86zM5.41 20L4 18.59l7.72-7.72 1.47 1.35L5.41 20z\"/>\n",
              "  </svg>\n",
              "      </button>\n",
              "      \n",
              "  <style>\n",
              "    .colab-df-container {\n",
              "      display:flex;\n",
              "      flex-wrap:wrap;\n",
              "      gap: 12px;\n",
              "    }\n",
              "\n",
              "    .colab-df-convert {\n",
              "      background-color: #E8F0FE;\n",
              "      border: none;\n",
              "      border-radius: 50%;\n",
              "      cursor: pointer;\n",
              "      display: none;\n",
              "      fill: #1967D2;\n",
              "      height: 32px;\n",
              "      padding: 0 0 0 0;\n",
              "      width: 32px;\n",
              "    }\n",
              "\n",
              "    .colab-df-convert:hover {\n",
              "      background-color: #E2EBFA;\n",
              "      box-shadow: 0px 1px 2px rgba(60, 64, 67, 0.3), 0px 1px 3px 1px rgba(60, 64, 67, 0.15);\n",
              "      fill: #174EA6;\n",
              "    }\n",
              "\n",
              "    [theme=dark] .colab-df-convert {\n",
              "      background-color: #3B4455;\n",
              "      fill: #D2E3FC;\n",
              "    }\n",
              "\n",
              "    [theme=dark] .colab-df-convert:hover {\n",
              "      background-color: #434B5C;\n",
              "      box-shadow: 0px 1px 3px 1px rgba(0, 0, 0, 0.15);\n",
              "      filter: drop-shadow(0px 1px 2px rgba(0, 0, 0, 0.3));\n",
              "      fill: #FFFFFF;\n",
              "    }\n",
              "  </style>\n",
              "\n",
              "      <script>\n",
              "        const buttonEl =\n",
              "          document.querySelector('#df-2566918c-5bc0-4ea6-b99c-6213f5878ef0 button.colab-df-convert');\n",
              "        buttonEl.style.display =\n",
              "          google.colab.kernel.accessAllowed ? 'block' : 'none';\n",
              "\n",
              "        async function convertToInteractive(key) {\n",
              "          const element = document.querySelector('#df-2566918c-5bc0-4ea6-b99c-6213f5878ef0');\n",
              "          const dataTable =\n",
              "            await google.colab.kernel.invokeFunction('convertToInteractive',\n",
              "                                                     [key], {});\n",
              "          if (!dataTable) return;\n",
              "\n",
              "          const docLinkHtml = 'Like what you see? Visit the ' +\n",
              "            '<a target=\"_blank\" href=https://colab.research.google.com/notebooks/data_table.ipynb>data table notebook</a>'\n",
              "            + ' to learn more about interactive tables.';\n",
              "          element.innerHTML = '';\n",
              "          dataTable['output_type'] = 'display_data';\n",
              "          await google.colab.output.renderOutput(dataTable, element);\n",
              "          const docLink = document.createElement('div');\n",
              "          docLink.innerHTML = docLinkHtml;\n",
              "          element.appendChild(docLink);\n",
              "        }\n",
              "      </script>\n",
              "    </div>\n",
              "  </div>\n",
              "  "
            ]
          },
          "metadata": {},
          "execution_count": 42
        }
      ]
    },
    {
      "cell_type": "code",
      "source": [
        "subm.loc[~subm.FVC1.isnull(),'FVC'] = subm.loc[~subm.FVC1.isnull(),'FVC1']\n",
        "if sigma_mean<70:\n",
        "    subm['Confidence'] = sigma_opt\n",
        "else:\n",
        "    subm.loc[~subm.FVC1.isnull(),'Confidence'] = subm.loc[~subm.FVC1.isnull(),'Confidence1']"
      ],
      "metadata": {
        "id": "hNbYSSgekMAM"
      },
      "execution_count": null,
      "outputs": []
    },
    {
      "cell_type": "code",
      "source": [
        "subm.head()"
      ],
      "metadata": {
        "colab": {
          "base_uri": "https://localhost:8080/",
          "height": 206
        },
        "id": "f8hH3kypkO3i",
        "outputId": "d37e8841-3b3c-4ff5-a16f-af6d61d12c67"
      },
      "execution_count": null,
      "outputs": [
        {
          "output_type": "execute_result",
          "data": {
            "text/plain": [
              "                       Patient_Week          FVC  Confidence         FVC1  \\\n",
              "1540  ID00419637202311204720264_-12  2877.337646  270.157532  2877.337646   \n",
              "1541  ID00419637202311204720264_-11  2874.982544  270.256348  2874.982544   \n",
              "1542  ID00419637202311204720264_-10  2872.632935  270.354858  2872.632935   \n",
              "1543   ID00419637202311204720264_-9  2870.288757  270.453003  2870.288757   \n",
              "1544   ID00419637202311204720264_-8  2867.950073  270.550842  2867.950073   \n",
              "\n",
              "      Confidence1  \n",
              "1540   270.157532  \n",
              "1541   270.256348  \n",
              "1542   270.354858  \n",
              "1543   270.453003  \n",
              "1544   270.550842  "
            ],
            "text/html": [
              "\n",
              "  <div id=\"df-0788ce0b-5b40-4d23-81f7-5fa28c5ae7cc\">\n",
              "    <div class=\"colab-df-container\">\n",
              "      <div>\n",
              "<style scoped>\n",
              "    .dataframe tbody tr th:only-of-type {\n",
              "        vertical-align: middle;\n",
              "    }\n",
              "\n",
              "    .dataframe tbody tr th {\n",
              "        vertical-align: top;\n",
              "    }\n",
              "\n",
              "    .dataframe thead th {\n",
              "        text-align: right;\n",
              "    }\n",
              "</style>\n",
              "<table border=\"1\" class=\"dataframe\">\n",
              "  <thead>\n",
              "    <tr style=\"text-align: right;\">\n",
              "      <th></th>\n",
              "      <th>Patient_Week</th>\n",
              "      <th>FVC</th>\n",
              "      <th>Confidence</th>\n",
              "      <th>FVC1</th>\n",
              "      <th>Confidence1</th>\n",
              "    </tr>\n",
              "  </thead>\n",
              "  <tbody>\n",
              "    <tr>\n",
              "      <th>1540</th>\n",
              "      <td>ID00419637202311204720264_-12</td>\n",
              "      <td>2877.337646</td>\n",
              "      <td>270.157532</td>\n",
              "      <td>2877.337646</td>\n",
              "      <td>270.157532</td>\n",
              "    </tr>\n",
              "    <tr>\n",
              "      <th>1541</th>\n",
              "      <td>ID00419637202311204720264_-11</td>\n",
              "      <td>2874.982544</td>\n",
              "      <td>270.256348</td>\n",
              "      <td>2874.982544</td>\n",
              "      <td>270.256348</td>\n",
              "    </tr>\n",
              "    <tr>\n",
              "      <th>1542</th>\n",
              "      <td>ID00419637202311204720264_-10</td>\n",
              "      <td>2872.632935</td>\n",
              "      <td>270.354858</td>\n",
              "      <td>2872.632935</td>\n",
              "      <td>270.354858</td>\n",
              "    </tr>\n",
              "    <tr>\n",
              "      <th>1543</th>\n",
              "      <td>ID00419637202311204720264_-9</td>\n",
              "      <td>2870.288757</td>\n",
              "      <td>270.453003</td>\n",
              "      <td>2870.288757</td>\n",
              "      <td>270.453003</td>\n",
              "    </tr>\n",
              "    <tr>\n",
              "      <th>1544</th>\n",
              "      <td>ID00419637202311204720264_-8</td>\n",
              "      <td>2867.950073</td>\n",
              "      <td>270.550842</td>\n",
              "      <td>2867.950073</td>\n",
              "      <td>270.550842</td>\n",
              "    </tr>\n",
              "  </tbody>\n",
              "</table>\n",
              "</div>\n",
              "      <button class=\"colab-df-convert\" onclick=\"convertToInteractive('df-0788ce0b-5b40-4d23-81f7-5fa28c5ae7cc')\"\n",
              "              title=\"Convert this dataframe to an interactive table.\"\n",
              "              style=\"display:none;\">\n",
              "        \n",
              "  <svg xmlns=\"http://www.w3.org/2000/svg\" height=\"24px\"viewBox=\"0 0 24 24\"\n",
              "       width=\"24px\">\n",
              "    <path d=\"M0 0h24v24H0V0z\" fill=\"none\"/>\n",
              "    <path d=\"M18.56 5.44l.94 2.06.94-2.06 2.06-.94-2.06-.94-.94-2.06-.94 2.06-2.06.94zm-11 1L8.5 8.5l.94-2.06 2.06-.94-2.06-.94L8.5 2.5l-.94 2.06-2.06.94zm10 10l.94 2.06.94-2.06 2.06-.94-2.06-.94-.94-2.06-.94 2.06-2.06.94z\"/><path d=\"M17.41 7.96l-1.37-1.37c-.4-.4-.92-.59-1.43-.59-.52 0-1.04.2-1.43.59L10.3 9.45l-7.72 7.72c-.78.78-.78 2.05 0 2.83L4 21.41c.39.39.9.59 1.41.59.51 0 1.02-.2 1.41-.59l7.78-7.78 2.81-2.81c.8-.78.8-2.07 0-2.86zM5.41 20L4 18.59l7.72-7.72 1.47 1.35L5.41 20z\"/>\n",
              "  </svg>\n",
              "      </button>\n",
              "      \n",
              "  <style>\n",
              "    .colab-df-container {\n",
              "      display:flex;\n",
              "      flex-wrap:wrap;\n",
              "      gap: 12px;\n",
              "    }\n",
              "\n",
              "    .colab-df-convert {\n",
              "      background-color: #E8F0FE;\n",
              "      border: none;\n",
              "      border-radius: 50%;\n",
              "      cursor: pointer;\n",
              "      display: none;\n",
              "      fill: #1967D2;\n",
              "      height: 32px;\n",
              "      padding: 0 0 0 0;\n",
              "      width: 32px;\n",
              "    }\n",
              "\n",
              "    .colab-df-convert:hover {\n",
              "      background-color: #E2EBFA;\n",
              "      box-shadow: 0px 1px 2px rgba(60, 64, 67, 0.3), 0px 1px 3px 1px rgba(60, 64, 67, 0.15);\n",
              "      fill: #174EA6;\n",
              "    }\n",
              "\n",
              "    [theme=dark] .colab-df-convert {\n",
              "      background-color: #3B4455;\n",
              "      fill: #D2E3FC;\n",
              "    }\n",
              "\n",
              "    [theme=dark] .colab-df-convert:hover {\n",
              "      background-color: #434B5C;\n",
              "      box-shadow: 0px 1px 3px 1px rgba(0, 0, 0, 0.15);\n",
              "      filter: drop-shadow(0px 1px 2px rgba(0, 0, 0, 0.3));\n",
              "      fill: #FFFFFF;\n",
              "    }\n",
              "  </style>\n",
              "\n",
              "      <script>\n",
              "        const buttonEl =\n",
              "          document.querySelector('#df-0788ce0b-5b40-4d23-81f7-5fa28c5ae7cc button.colab-df-convert');\n",
              "        buttonEl.style.display =\n",
              "          google.colab.kernel.accessAllowed ? 'block' : 'none';\n",
              "\n",
              "        async function convertToInteractive(key) {\n",
              "          const element = document.querySelector('#df-0788ce0b-5b40-4d23-81f7-5fa28c5ae7cc');\n",
              "          const dataTable =\n",
              "            await google.colab.kernel.invokeFunction('convertToInteractive',\n",
              "                                                     [key], {});\n",
              "          if (!dataTable) return;\n",
              "\n",
              "          const docLinkHtml = 'Like what you see? Visit the ' +\n",
              "            '<a target=\"_blank\" href=https://colab.research.google.com/notebooks/data_table.ipynb>data table notebook</a>'\n",
              "            + ' to learn more about interactive tables.';\n",
              "          element.innerHTML = '';\n",
              "          dataTable['output_type'] = 'display_data';\n",
              "          await google.colab.output.renderOutput(dataTable, element);\n",
              "          const docLink = document.createElement('div');\n",
              "          docLink.innerHTML = docLinkHtml;\n",
              "          element.appendChild(docLink);\n",
              "        }\n",
              "      </script>\n",
              "    </div>\n",
              "  </div>\n",
              "  "
            ]
          },
          "metadata": {},
          "execution_count": 44
        }
      ]
    },
    {
      "cell_type": "code",
      "source": [
        "subm.describe().T"
      ],
      "metadata": {
        "colab": {
          "base_uri": "https://localhost:8080/",
          "height": 175
        },
        "id": "9G0Sla8DkRj1",
        "outputId": "bcd34884-0890-45f5-bdf4-5acf2121506b"
      },
      "execution_count": null,
      "outputs": [
        {
          "output_type": "execute_result",
          "data": {
            "text/plain": [
              "             count         mean         std          min          25%  \\\n",
              "FVC          730.0  2679.817359  309.181283  2047.543732  2615.779694   \n",
              "Confidence   730.0   266.790358    7.860069   248.295166   261.353447   \n",
              "FVC1         730.0  2679.817359  309.181283  2047.543732  2615.779694   \n",
              "Confidence1  730.0   266.790358    7.860069   248.295166   261.353447   \n",
              "\n",
              "                     50%          75%          max  \n",
              "FVC          2723.714661  2847.552246  3239.399719  \n",
              "Confidence    266.482620   273.541893   280.773285  \n",
              "FVC1         2723.714661  2847.552246  3239.399719  \n",
              "Confidence1   266.482620   273.541893   280.773285  "
            ],
            "text/html": [
              "\n",
              "  <div id=\"df-512f8a3d-cef3-4cac-90dc-5b372e7e8e0c\">\n",
              "    <div class=\"colab-df-container\">\n",
              "      <div>\n",
              "<style scoped>\n",
              "    .dataframe tbody tr th:only-of-type {\n",
              "        vertical-align: middle;\n",
              "    }\n",
              "\n",
              "    .dataframe tbody tr th {\n",
              "        vertical-align: top;\n",
              "    }\n",
              "\n",
              "    .dataframe thead th {\n",
              "        text-align: right;\n",
              "    }\n",
              "</style>\n",
              "<table border=\"1\" class=\"dataframe\">\n",
              "  <thead>\n",
              "    <tr style=\"text-align: right;\">\n",
              "      <th></th>\n",
              "      <th>count</th>\n",
              "      <th>mean</th>\n",
              "      <th>std</th>\n",
              "      <th>min</th>\n",
              "      <th>25%</th>\n",
              "      <th>50%</th>\n",
              "      <th>75%</th>\n",
              "      <th>max</th>\n",
              "    </tr>\n",
              "  </thead>\n",
              "  <tbody>\n",
              "    <tr>\n",
              "      <th>FVC</th>\n",
              "      <td>730.0</td>\n",
              "      <td>2679.817359</td>\n",
              "      <td>309.181283</td>\n",
              "      <td>2047.543732</td>\n",
              "      <td>2615.779694</td>\n",
              "      <td>2723.714661</td>\n",
              "      <td>2847.552246</td>\n",
              "      <td>3239.399719</td>\n",
              "    </tr>\n",
              "    <tr>\n",
              "      <th>Confidence</th>\n",
              "      <td>730.0</td>\n",
              "      <td>266.790358</td>\n",
              "      <td>7.860069</td>\n",
              "      <td>248.295166</td>\n",
              "      <td>261.353447</td>\n",
              "      <td>266.482620</td>\n",
              "      <td>273.541893</td>\n",
              "      <td>280.773285</td>\n",
              "    </tr>\n",
              "    <tr>\n",
              "      <th>FVC1</th>\n",
              "      <td>730.0</td>\n",
              "      <td>2679.817359</td>\n",
              "      <td>309.181283</td>\n",
              "      <td>2047.543732</td>\n",
              "      <td>2615.779694</td>\n",
              "      <td>2723.714661</td>\n",
              "      <td>2847.552246</td>\n",
              "      <td>3239.399719</td>\n",
              "    </tr>\n",
              "    <tr>\n",
              "      <th>Confidence1</th>\n",
              "      <td>730.0</td>\n",
              "      <td>266.790358</td>\n",
              "      <td>7.860069</td>\n",
              "      <td>248.295166</td>\n",
              "      <td>261.353447</td>\n",
              "      <td>266.482620</td>\n",
              "      <td>273.541893</td>\n",
              "      <td>280.773285</td>\n",
              "    </tr>\n",
              "  </tbody>\n",
              "</table>\n",
              "</div>\n",
              "      <button class=\"colab-df-convert\" onclick=\"convertToInteractive('df-512f8a3d-cef3-4cac-90dc-5b372e7e8e0c')\"\n",
              "              title=\"Convert this dataframe to an interactive table.\"\n",
              "              style=\"display:none;\">\n",
              "        \n",
              "  <svg xmlns=\"http://www.w3.org/2000/svg\" height=\"24px\"viewBox=\"0 0 24 24\"\n",
              "       width=\"24px\">\n",
              "    <path d=\"M0 0h24v24H0V0z\" fill=\"none\"/>\n",
              "    <path d=\"M18.56 5.44l.94 2.06.94-2.06 2.06-.94-2.06-.94-.94-2.06-.94 2.06-2.06.94zm-11 1L8.5 8.5l.94-2.06 2.06-.94-2.06-.94L8.5 2.5l-.94 2.06-2.06.94zm10 10l.94 2.06.94-2.06 2.06-.94-2.06-.94-.94-2.06-.94 2.06-2.06.94z\"/><path d=\"M17.41 7.96l-1.37-1.37c-.4-.4-.92-.59-1.43-.59-.52 0-1.04.2-1.43.59L10.3 9.45l-7.72 7.72c-.78.78-.78 2.05 0 2.83L4 21.41c.39.39.9.59 1.41.59.51 0 1.02-.2 1.41-.59l7.78-7.78 2.81-2.81c.8-.78.8-2.07 0-2.86zM5.41 20L4 18.59l7.72-7.72 1.47 1.35L5.41 20z\"/>\n",
              "  </svg>\n",
              "      </button>\n",
              "      \n",
              "  <style>\n",
              "    .colab-df-container {\n",
              "      display:flex;\n",
              "      flex-wrap:wrap;\n",
              "      gap: 12px;\n",
              "    }\n",
              "\n",
              "    .colab-df-convert {\n",
              "      background-color: #E8F0FE;\n",
              "      border: none;\n",
              "      border-radius: 50%;\n",
              "      cursor: pointer;\n",
              "      display: none;\n",
              "      fill: #1967D2;\n",
              "      height: 32px;\n",
              "      padding: 0 0 0 0;\n",
              "      width: 32px;\n",
              "    }\n",
              "\n",
              "    .colab-df-convert:hover {\n",
              "      background-color: #E2EBFA;\n",
              "      box-shadow: 0px 1px 2px rgba(60, 64, 67, 0.3), 0px 1px 3px 1px rgba(60, 64, 67, 0.15);\n",
              "      fill: #174EA6;\n",
              "    }\n",
              "\n",
              "    [theme=dark] .colab-df-convert {\n",
              "      background-color: #3B4455;\n",
              "      fill: #D2E3FC;\n",
              "    }\n",
              "\n",
              "    [theme=dark] .colab-df-convert:hover {\n",
              "      background-color: #434B5C;\n",
              "      box-shadow: 0px 1px 3px 1px rgba(0, 0, 0, 0.15);\n",
              "      filter: drop-shadow(0px 1px 2px rgba(0, 0, 0, 0.3));\n",
              "      fill: #FFFFFF;\n",
              "    }\n",
              "  </style>\n",
              "\n",
              "      <script>\n",
              "        const buttonEl =\n",
              "          document.querySelector('#df-512f8a3d-cef3-4cac-90dc-5b372e7e8e0c button.colab-df-convert');\n",
              "        buttonEl.style.display =\n",
              "          google.colab.kernel.accessAllowed ? 'block' : 'none';\n",
              "\n",
              "        async function convertToInteractive(key) {\n",
              "          const element = document.querySelector('#df-512f8a3d-cef3-4cac-90dc-5b372e7e8e0c');\n",
              "          const dataTable =\n",
              "            await google.colab.kernel.invokeFunction('convertToInteractive',\n",
              "                                                     [key], {});\n",
              "          if (!dataTable) return;\n",
              "\n",
              "          const docLinkHtml = 'Like what you see? Visit the ' +\n",
              "            '<a target=\"_blank\" href=https://colab.research.google.com/notebooks/data_table.ipynb>data table notebook</a>'\n",
              "            + ' to learn more about interactive tables.';\n",
              "          element.innerHTML = '';\n",
              "          dataTable['output_type'] = 'display_data';\n",
              "          await google.colab.output.renderOutput(dataTable, element);\n",
              "          const docLink = document.createElement('div');\n",
              "          docLink.innerHTML = docLinkHtml;\n",
              "          element.appendChild(docLink);\n",
              "        }\n",
              "      </script>\n",
              "    </div>\n",
              "  </div>\n",
              "  "
            ]
          },
          "metadata": {},
          "execution_count": 45
        }
      ]
    },
    {
      "cell_type": "code",
      "source": [
        "subm[\"Confidence\"]"
      ],
      "metadata": {
        "colab": {
          "base_uri": "https://localhost:8080/"
        },
        "id": "AIgj4c8GkT7E",
        "outputId": "140521af-7842-4493-b553-8b7972510b25"
      },
      "execution_count": null,
      "outputs": [
        {
          "output_type": "execute_result",
          "data": {
            "text/plain": [
              "1540    270.157532\n",
              "1541    270.256348\n",
              "1542    270.354858\n",
              "1543    270.453003\n",
              "1544    270.550842\n",
              "           ...    \n",
              "2265    262.125031\n",
              "2266    262.187317\n",
              "2267    262.248993\n",
              "2268    262.310516\n",
              "2269    262.371582\n",
              "Name: Confidence, Length: 730, dtype: float64"
            ]
          },
          "metadata": {},
          "execution_count": 46
        }
      ]
    },
    {
      "cell_type": "code",
      "source": [
        "subm[[\"Patient_Week\",\"FVC\",\"Confidence\"]].to_csv(ROOT+\"/submission_RNN.csv\", index=False)"
      ],
      "metadata": {
        "id": "sDfo97uqkWhp"
      },
      "execution_count": null,
      "outputs": []
    },
    {
      "cell_type": "code",
      "source": [],
      "metadata": {
        "id": "La9MZYv3kb5l"
      },
      "execution_count": null,
      "outputs": []
    }
  ]
}